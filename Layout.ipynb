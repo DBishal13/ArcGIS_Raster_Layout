{
 "cells": [
  {
   "cell_type": "code",
   "execution_count": 2,
   "metadata": {},
   "outputs": [
    {
     "ename": "AttributeError",
     "evalue": "module 'arcpy.mp' has no attribute 'MapDocument'",
     "output_type": "error",
     "traceback": [
      "\u001b[0;31m---------------------------------------------------------------------------\u001b[0m\n\u001b[0;31mAttributeError\u001b[0m                            Traceback (most recent call last)",
      "In  \u001b[0;34m[2]\u001b[0m:\nLine \u001b[0;34m1\u001b[0m:     mxd = arcpy.mp.MapDocument(\u001b[33m\"\u001b[39;49;00m\u001b[33mCURRENT\u001b[39;49;00m\u001b[33m\"\u001b[39;49;00m)\n",
      "\u001b[0;31mAttributeError\u001b[0m: module 'arcpy.mp' has no attribute 'MapDocument'\n\u001b[0;31m---------------------------------------------------------------------------\u001b[0m"
     ]
    }
   ],
   "source": [
    "mxd = arcpy.mp.MapDocument(\"CURRENT\")"
   ]
  },
  {
   "cell_type": "code",
   "execution_count": 15,
   "metadata": {},
   "outputs": [
    {
     "name": "stdout",
     "output_type": "stream",
     "text": [
      "inundation_king_tide_100y1d_SLR1_huc_29\n",
      "inundation_king_tide_100y1d_SLR1_huc_28\n",
      "inundation_king_tide_100y1d_SLR1_huc_27\n",
      "inundation_king_tide_100y1d_SLR1_huc_26\n",
      "inundation_king_tide_100y1d_SLR1_huc_25\n"
     ]
    }
   ],
   "source": [
    "import arcpy\n",
    "aprx = arcpy.mp.ArcGISProject(\"CURRENT\")\n",
    "m = aprx.listMaps()[3]\n",
    "layers = m.listLayers()\n",
    "symbology_layer= r\"Z:\\Templates\\symbology\\zscore_floodrisk.lyrx\"\n",
    "for lyr in layers[5:]:\n",
    "    arcpy.ApplySymbologyFromLayer_management(lyr, symbology_layer)\n",
    "    if lyr.name == \"inundation_king_tide_100y1d_185\":\n",
    "        lyr.name = \"Probability of inundation based on 2.6 feet king tide and 1-day 100-year storm event\"\n",
    "    print(lyr.name)"
   ]
  },
  {
   "cell_type": "code",
   "execution_count": 48,
   "metadata": {},
   "outputs": [
    {
     "data": {
      "text/plain": [
       "'Probability of inundation based on 2.6 ft king tide, 1 ft SLR and 1-day 100-year storm event'"
      ]
     },
     "execution_count": 48,
     "metadata": {},
     "output_type": "execute_result"
    }
   ],
   "source": [
    "k = \"2.6 ft king tide\" if \"king_tide\" in layers[5].name else \"\"\n",
    "\n",
    "s = \" ft SLR\" if \"SLR1\" in layers[5].name else \"\"\n",
    "\n",
    "v = layers[5].name [layers[5].name.find(\"SLR\") +3] if \"SLR1\" in layers[5].name else \"\"\n",
    "\n",
    "if k and s:\n",
    "    a = \" and \"\n",
    "else:\n",
    "    a = \" \"\n",
    "    \n",
    "if \"25y3d\" in layers[5].name:\n",
    "    t = \"3-day 25-year storm event\"\n",
    "elif \"100y1d\" in layers[5].name:\n",
    "    t = \"1-day 100-year storm event\"\n",
    "elif \"10y1d\" in layers[5].name:\n",
    "    t = \"1-day 10-year storm event\"\n",
    "elif \"5y1d\" in layers[5].name:\n",
    "    t = \"1-day 5-year storm event\"\n",
    "else:\n",
    "    t = \"\"\n",
    "    \n",
    "message = \"Probability of inundation based on \" + k + \", \"+ v + s + a + t\n",
    "message"
   ]
  },
  {
   "cell_type": "code",
   "execution_count": 49,
   "metadata": {},
   "outputs": [],
   "source": [
    "layers[5].name = message"
   ]
  },
  {
   "cell_type": "code",
   "execution_count": 58,
   "metadata": {},
   "outputs": [
    {
     "name": "stdout",
     "output_type": "stream",
     "text": [
      "Zscore_FloodRisk\n",
      "Probability of inundation based on 2.6 feet king tide and 1-day 100-year storm event\n"
     ]
    }
   ],
   "source": [
    "import arcpy\n",
    "aprx = arcpy.mp.ArcGISProject(r\"CURRENT\")\n",
    "lyt = aprx.listLayouts()[-1]\n",
    "print (lyt.name)\n",
    "for elm in lyt.listElements(\"TEXT_ELEMENT\"):\n",
    "    if \"Probability of inundation\" in elm.text:\n",
    "        print (elm.text)\n",
    "        elm.text = message\n",
    "        message"
   ]
  },
  {
   "cell_type": "code",
   "execution_count": 60,
   "metadata": {},
   "outputs": [
    {
     "name": "stdout",
     "output_type": "stream",
     "text": [
      "success!\n"
     ]
    }
   ],
   "source": [
    "import os\n",
    "outpath = r\"C:\\Users\\bdhungana2023\\Downloads\\Watershed Project\\Inundation Maps\"\n",
    "filename = message + \"jpg\"\n",
    "lyt.exportToJPEG(os.path.join(outpath,filename))\n",
    "print(\"success!\")"
   ]
  },
  {
   "cell_type": "code",
   "execution_count": null,
   "metadata": {},
   "outputs": [],
   "source": [
    "##import symbology##\n",
    "import arcpy\n",
    "from arcpy import env\n",
    "env.workspace = r\"Z:\\Users\\ihasan2020\\Watershed2023\\WMP_2\\WMP_2\\WMP2_Automation\\output_Zscor_king_tide_100y1d.gdb\"\n",
    "rasters = arcpy.ListRasters(\"*\", \"ALL\")\n",
    "symbology_layer= r\"Z:\\Templates\\symbology\\zscore_floodrisk.lyrx\"\n",
    "for raster in rasters:\n",
    "    arcpy.ApplySymbologyFromLayer_management(raster, symbology_layer)"
   ]
  }
 ],
 "metadata": {
  "kernelspec": {
   "display_name": "ArcGISPro",
   "language": "Python",
   "name": "python3"
  },
  "language_info": {
   "file_extension": ".py",
   "name": "python",
   "version": "3"
  }
 },
 "nbformat": 4,
 "nbformat_minor": 2
}
